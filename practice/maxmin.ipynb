{
  "nbformat": 4,
  "nbformat_minor": 0,
  "metadata": {
    "colab": {
      "provenance": [],
      "mount_file_id": "1N5f58yXwRzcodL5w-kFqBAUr-4uH3tHl",
      "authorship_tag": "ABX9TyOeBAlm5ebMCTZbejX2O8MR",
      "include_colab_link": true
    },
    "kernelspec": {
      "name": "python3",
      "display_name": "Python 3"
    },
    "language_info": {
      "name": "python"
    }
  },
  "cells": [
    {
      "cell_type": "markdown",
      "metadata": {
        "id": "view-in-github",
        "colab_type": "text"
      },
      "source": [
        "<a href=\"https://colab.research.google.com/github/sujinee01/Capstone/blob/main/maxmin.ipynb\" target=\"_parent\"><img src=\"https://colab.research.google.com/assets/colab-badge.svg\" alt=\"Open In Colab\"/></a>"
      ]
    },
    {
      "cell_type": "code",
      "execution_count": null,
      "metadata": {
        "colab": {
          "base_uri": "https://localhost:8080/"
        },
        "id": "6YfJGbIotvkd",
        "outputId": "99e178d8-4128-4df9-bacc-28dacdec02f3"
      },
      "outputs": [
        {
          "output_type": "stream",
          "name": "stdout",
          "text": [
            "Mounted at /content/drive\n",
            "   Current(A)  Voltage(V)  Temperature (C)_1    SOC(t)\n",
            "0    0.666601    0.947952           0.479154  0.999999\n",
            "1    0.666634    0.947388           0.457850  0.999999\n",
            "2    0.666634    0.947200           0.531317  0.999999\n",
            "3    0.666634    0.947200           0.479154  0.999999\n",
            "4    0.666634    0.946825           0.479154  0.999999\n"
          ]
        }
      ],
      "source": [
        "import pandas as pd\n",
        "from sklearn.preprocessing import MinMaxScaler\n",
        "\n",
        "from google.colab import drive\n",
        "drive.mount(\"/content/drive\", force_remount=True)\n",
        "\n",
        "\n",
        "# 데이터 불러오기\n",
        "data = pd.read_excel(\"/content/drive/MyDrive/LiFePO4 Dynamic Profile Files/LiFePO4 Dynamic Profile Files/20도/LiFePO4_DST_SOC_20_1.xlsx\")\n",
        "\n",
        "# 비수치 열 제외\n",
        "numerical_columns = ['Test_Time(s)', 'Step_Time(s)', 'Step_Index', 'Current(A)', 'Voltage(V)', 'Temperature (C)_1', 'SOC(t)']\n",
        "data_numeric = data[numerical_columns]\n",
        "\n",
        "# 결측치 처리\n",
        "data_numeric = data_numeric.dropna()\n",
        "\n",
        "# 정규화할 열 선택\n",
        "columns_to_normalize = ['Current(A)', 'Voltage(V)', 'Temperature (C)_1', 'SOC(t)']\n",
        "\n",
        "# Min-Max 스케일러 생성\n",
        "scaler = MinMaxScaler()\n",
        "\n",
        "# 선택한 열에 대해 Min-Max 스케일링 적용\n",
        "data_normalized = pd.DataFrame(scaler.fit_transform(data_numeric[columns_to_normalize]), columns=columns_to_normalize)\n",
        "\n",
        "# 정규화된 데이터 출력\n",
        "print(data_normalized.head())"
      ]
    },
    {
      "cell_type": "code",
      "source": [
        "import pandas as pd\n",
        "from sklearn.preprocessing import MinMaxScaler\n",
        "\n",
        "from google.colab import drive\n",
        "drive.mount(\"/content/drive\", force_remount=True)\n",
        "\n",
        "import os\n",
        "\n",
        "# 파일이 저장된 디렉토리 경로\n",
        "directory = \"/content/drive/MyDrive/LiFePO4 Dynamic Profile Files/LiFePO4 Dynamic Profile Files/20도\"\n",
        "\n",
        "# 디렉토리 내의 모든 엑셀 파일 경로를 가져옴\n",
        "file_paths = [os.path.join(directory, file) for file in os.listdir(directory) if file.endswith(\".xlsx\")]\n",
        "\n",
        "# 모든 파일에 대해 반복적으로 작업 수행\n",
        "for file_path in file_paths:\n",
        "    # 파일 읽기\n",
        "    data = pd.read_excel(file_path)\n",
        "\n",
        "    # 비수치 열 제외\n",
        "    numerical_columns = ['Test_Time(s)', 'Step_Time(s)', 'Step_Index', 'Current(A)', 'Voltage(V)', 'Temperature (C)_1', 'SOC(t)']\n",
        "    data_numeric = data[numerical_columns]\n",
        "\n",
        "    # 결측치 처리\n",
        "    data_numeric = data_numeric.dropna()\n",
        "\n",
        "    # 선택한 열에 대해 Min-Max 스케일링 적용\n",
        "    data_normalized = pd.DataFrame(scaler.fit_transform(data_numeric[columns_to_normalize]), columns=columns_to_normalize)\n",
        "\n",
        "    # 정규화된 데이터 출력\n",
        "    print(data_normalized.head())\n",
        "\n",
        "    # 여기서 추가 작업을 수행할 수 있습니다.\n"
      ],
      "metadata": {
        "colab": {
          "base_uri": "https://localhost:8080/"
        },
        "id": "uGgv_yWxt9gN",
        "outputId": "1d5f594b-e5c2-4da1-a137-15aed34779d9"
      },
      "execution_count": null,
      "outputs": [
        {
          "output_type": "stream",
          "name": "stdout",
          "text": [
            "Mounted at /content/drive\n",
            "   Current(A)  Voltage(V)  Temperature (C)_1    SOC(t)\n",
            "0    0.666601    0.947952           0.479154  0.999999\n",
            "1    0.666634    0.947388           0.457850  0.999999\n",
            "2    0.666634    0.947200           0.531317  0.999999\n",
            "3    0.666634    0.947200           0.479154  0.999999\n",
            "4    0.666634    0.946825           0.479154  0.999999\n",
            "   Current(A)  Voltage(V)  Temperature (C)_1  SOC(t)\n",
            "0    0.666651    0.931023           0.224824     1.0\n",
            "1    0.666573    0.930849           0.242473     1.0\n",
            "2    0.666604    0.930849           0.224824     1.0\n",
            "3    0.666573    0.930676           0.181592     1.0\n",
            "4    0.666604    0.930676           0.207177     1.0\n",
            "   Current(A)  Voltage(V)  Temperature (C)_1    SOC(t)\n",
            "0    0.651264    0.920654           0.459180  0.999999\n",
            "1    0.651297    0.919951           0.428424  0.999999\n",
            "2    0.651297    0.919775           0.511155  0.999999\n",
            "3    0.651297    0.919775           0.459180  0.999999\n",
            "4    0.651297    0.919775           0.459180  0.999999\n",
            "   Current(A)  Voltage(V)  Temperature (C)_1  SOC(t)\n",
            "0    0.651305    0.896558           0.290374     1.0\n",
            "1    0.651259    0.896380           0.268467     1.0\n",
            "2    0.651259    0.896380           0.451408     1.0\n",
            "3    0.651259    0.896203           0.451408     1.0\n",
            "4    0.651290    0.896203           0.397734     1.0\n",
            "   Current(A)  Voltage(V)  Temperature (C)_1  SOC(t)\n",
            "0    0.823042    0.998615           0.717421     1.0\n",
            "1    0.823082    0.998417           0.745678     1.0\n",
            "2    0.823082    0.998417           0.689162     1.0\n",
            "3    0.823042    0.998021           0.676493     1.0\n",
            "4    0.823082    0.998021           0.745678     1.0\n",
            "   Current(A)  Voltage(V)  Temperature (C)_1  SOC(t)\n",
            "0    0.822990    0.990192           0.513592     1.0\n",
            "1    0.822932    0.990192           0.534185     1.0\n",
            "2    0.822893    0.989996           0.513592     1.0\n",
            "3    0.822893    0.989996           0.493001     1.0\n",
            "4    0.822893    0.989800           0.311889     1.0\n"
          ]
        }
      ]
    }
  ]
}
